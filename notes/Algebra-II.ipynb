{
 "cells": [
  {
   "attachments": {},
   "cell_type": "markdown",
   "metadata": {},
   "source": [
    "# Algebra cheat sheet (Part II)"
   ]
  },
  {
   "attachments": {},
   "cell_type": "markdown",
   "metadata": {
    "tags": []
   },
   "source": [
    "\n",
    "## Linear Maps\n",
    "\n",
    "Consider vector spaces $V,W$. A function $\\Phi:V \\rightarrow W$ is called a linear map if: \n",
    "\n",
    "$$\\forall x,y \\in V~~and~~\\lambda,\\psi \\in \\mathbb{R}$$\n",
    "$$\\Phi(\\lambda x + \\psi y) = \\lambda \\Phi(x) + \\psi \\Phi(y)$$\n",
    "\n",
    "**(Def) Injective, Surjective, Bijective**\n",
    "\n",
    "- **Injective:** $\\forall x,y \\in V~~~\\Phi(x)=\\Phi(y) \\implies x = y$\n",
    "- **Surjective:** $\\{ w \\in W ~|~~ \\exists x \\in V~ such~ that~  \\Phi(x) = w\\} = W$\n",
    "- **Bijective:** $Injective + Surjective $\n",
    "\n",
    "> **_NOTE:_** Given $\\Phi$ a Bijective Linear Map: $\\exists \\psi ~~such~that~~ \\forall x \\in V ~~ (\\psi \\circ \\Phi)(x) = x ~~~~ \\psi$ is denoted $\\Phi^{-1}$ \n",
    "\n",
    "**(Def) Isomorphism:** Isomorphism is a **Bijective linear Map** \n",
    "\n",
    "\n",
    "**(Lemma)**: Exists an Isomorphism between $V$ and $W$ **iff** $dim(V)=dim(W)$\n",
    "\n",
    "> **_NOTE:_** Any $n-dimensional$ vector space is isomorphic to $\\mathbb{R^{n}}$\n",
    "\n",
    "## Matrix Representation of Linear Maps\n",
    "\n",
    "### Notation and Basic Definitions\n",
    "\n",
    "- $B_n[V]$ Means that: $V$ is a $n-dimensional$ vector space with a base $B=(b_1 , \\cdots , b_n)$\n",
    "- Consider $B_n[V]$ then: **$[b_1 , \\cdots , b_n]$** is a matrix who columns are the vectors $b_1 , \\cdots , b_n$\n",
    "\n",
    "**(Def)Coordinates:** Consider $B_n[V]$ , then let $x \\in V$ and $\\lambda_1 , \\cdots , \\lambda_n \\in \\mathbb{R}$ be the unique scalars such that: \n",
    "$x=\\lambda_1 b_1 + \\cdots + \\lambda_n b_n$. \n",
    "\n",
    "- Then $x_{B}=\\begin{bmatrix}\\lambda_1 \\\\  \\vdots \\\\ \\lambda_n \\\\ \\end{bmatrix}$ **are the coordinates of $x$ respect to base $B$**\n",
    "- Also let $\\Phi$ be a liner map, then $\\Phi_{B}(x)$  **are the coordinates of $\\Phi(x)$ respect to base $B$**\n",
    "  \n",
    "### Transformation Matrix\n",
    "\n",
    "Given $B_n[V]$ and  $C_m[W]$, consider a linear mapping $\\Phi:V \\rightarrow W$ \n",
    "\n",
    "Consider: $A_{\\Phi} = [\\Phi_c(b_1) , \\cdots , \\Phi_c(b_n) ]$\n",
    "\n",
    "Then if $x \\in V$ and $y=\\Phi(x)$\n",
    "\n",
    "- $y_c = A_{\\Phi} x_{B} \\equiv \\Phi_{c}(x) = A_{\\Phi} x_{B} $\n",
    "- $A_{\\Phi}$ is the **transformation matrix** of $\\Phi$ **respect to basis** $B$ and $C$, denoted as $A_{\\Phi B C}$\n",
    "\n",
    "\n",
    "### Change of Basis\n",
    "\n",
    "A particular case of the Transformation Matrix, is when the linear map of the form $\\Phi: V \\rightarrow V$ is the identity function $ID$. \n",
    "\n",
    "In this particular case the only that changes is the basis of the two vector spaces:\n",
    "\n",
    "Consider $B_n[V]$ and $C_n[V]$ then:\n",
    "\n",
    "$A_{\\Phi B C} = A_{Id~ B C} ~~=~~ [ID_c(b_1), \\cdots , ID_c(b_n)] ~~=~~ [(b_1)_c, \\cdots , (b_n)_c]$\n",
    "\n",
    "We denote this change of base matrix as: $A_{B \\rightarrow C}$ and then we have:\n",
    "\n",
    "$$\\forall x \\in V ~~~ x_C = (A_{B \\rightarrow C}) x_B$$\n",
    "\n"
   ]
  }
 ],
 "metadata": {
  "kernelspec": {
   "display_name": "Python 3 (ipykernel)",
   "language": "python",
   "name": "python3"
  },
  "language_info": {
   "codemirror_mode": {
    "name": "ipython",
    "version": 3
   },
   "file_extension": ".py",
   "mimetype": "text/x-python",
   "name": "python",
   "nbconvert_exporter": "python",
   "pygments_lexer": "ipython3",
   "version": "3.11.2"
  },
  "toc-autonumbering": false,
  "toc-showcode": true,
  "toc-showmarkdowntxt": false,
  "toc-showtags": false,
  "vscode": {
   "interpreter": {
    "hash": "a895399ee74c9bb8c2f84b506e1022159283bd55c0aac0147faf0c85b806a476"
   }
  }
 },
 "nbformat": 4,
 "nbformat_minor": 4
}
