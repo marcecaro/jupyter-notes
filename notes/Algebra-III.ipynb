{
 "cells": [
  {
   "attachments": {},
   "cell_type": "markdown",
   "metadata": {},
   "source": [
    "# Algebra cheat sheet (Part III)"
   ]
  },
  {
   "attachments": {},
   "cell_type": "markdown",
   "metadata": {
    "tags": []
   },
   "source": [
    "## Norms\n",
    "\n",
    "**(Def) Norm:** A norm on a vector space $V$ is a function $\\| \\cdot \\|:V \\rightarrow \\mathbb{R}$ such that:\n",
    "\n",
    "$\\forall \\lambda \\in \\mathbb{R}$ and $x,y \\in \\mathbb{R}$\n",
    "\n",
    "- $ \\| \\lambda c\\| = \\lambda \\|x\\| $ \n",
    "- $ \\| x + y \\| \\leq \\|x\\| + \\|y\\| $\n",
    "- $ \\| x \\| \\geq 0$ and ($\\|x\\|=0 \\iff x=0)$\n",
    "\n",
    "> **Euclidean norm**\n",
    "> $$\\| x \\|_2 = \\sqrt{\\sum_{i=1}^{n} x_{i}^2} = \\sqrt{x^T x}$$\n",
    "\n",
    "## Inner Product\n",
    "**(Def) Bilinear:** $\\Omega: V \\times V \\rightarrow \\mathbb{R}$ is bilinear if:\n",
    "\n",
    "$\\forall \\lambda, \\psi \\in \\mathbb{R}$ and $\\forall x,y,x \\in V$\n",
    "\n",
    "- $\\Omega(\\lambda x + \\psi y, z) = \\lambda \\Omega( x , z)   +  \\psi  \\Omega( y, z)$\n",
    "- $\\Omega(z , \\lambda x + \\psi y) = \\lambda \\Omega( z, x)   +  \\psi  \\Omega( z, y)$\n",
    "\n",
    "**(Def) Symmetric:** $\\Omega$ is symmetric if it is:  **bilinear** and $\\Omega(x,y) = \\Omega(y,x)$\n",
    "**(Def) Positive:** $\\Omega$ is positive defined if \n",
    "\n",
    "- $\\forall x \\in V \\setminus \\{0\\}$ $\\Omega(x,x) >  0$\n",
    "- $\\Omega(0, 0) = 0$\n",
    "\n",
    "**(Def) Inner-Product**\n",
    "\n",
    "$\\Omega:V \\times V \\rightarrow \\mathbb{R}$ is an inner-product if: It is linear, symmetric and positive defined.\n",
    "\n",
    "## Inner Vector Spaces\n",
    "\n",
    "The pair $(V, <\\cdot,\\cdot>)$ is an inner vector-space if $V$ is a vector space and $<\\cdot,\\cdot>$ is an inner-product.\n",
    "\n",
    "> **Euclidean Vector Space:** is a vector space with the following inner-product:\n",
    ">  $$<x,y> = x^T y = \\sum_{i=1}^{n} x_{i} y_{i} $$\n",
    "\n",
    "## Symmetric Positive Matrices\n",
    "\n",
    "Consider $(V, <\\cdot, \\cdot>)$ and $B_n[V]$ then:\n",
    "\n",
    "$$<x,y> = < \\sum_{i=1}^{n} \\lambda_i b_i  ~~,~~ \\sum_{j=1}^{n} \\psi_j b_i>$$\n",
    "\n",
    "Because of the Bilinear Property:\n",
    "\n",
    "$$<x,y> = < \\sum_{i=1}^{n} \\psi_i b_i  ~~,~~ \\sum_{j=1}^{n} \\lambda_j b_i> =  \\sum_{i=1}^{n} \\sum_{j=1}^{n} \\psi_i <b_i, b_j> \\lambda_j$$\n",
    "\n",
    "Then lets define $A_{ij} = <b_i, b_j>$\n",
    "\n",
    "$$<x,y> =  x_{B}^T A y_B$$\n",
    "\n",
    "> This means that $<\\cdot, \\cdot>$ is unique defined by  $A_{ij} = <b_i, b_j>$,  \n",
    "> also the symmetry of $<\\cdot, \\cdot>$ implies that $A$ is symmetric and $\\forall x \\in V \\setminus \\{0\\} : x^T A x > 0$\n",
    "\n",
    "**(Def) Positive Definite** A symmetric matrix $A \\in \\mathbb{R}^{n \\times n}$ is called **positive-definite** if: $\\forall x \\in V \\setminus \\{0\\} : x^T A x > 0$\n",
    "\n",
    "> **(Theorem) All inner-product can be expressed with symmetric positive-definite matrices**\n",
    ">\n",
    "> For all $B_n[V]$ it holds that  $<\\cdot, \\cdot>:V \\times V \\rightarrow \\mathbb{R}$ is an inner-product \n",
    "> There exist a symmetric positive-definite matrix $A \\in \\mathbb{R}^{n \\times n}$ with: $<x,y>= x_{b}^T A y_B$\n",
    "\n"
   ]
  }
 ],
 "metadata": {
  "kernelspec": {
   "display_name": "Python 3 (ipykernel)",
   "language": "python",
   "name": "python3"
  },
  "language_info": {
   "codemirror_mode": {
    "name": "ipython",
    "version": 3
   },
   "file_extension": ".py",
   "mimetype": "text/x-python",
   "name": "python",
   "nbconvert_exporter": "python",
   "pygments_lexer": "ipython3",
   "version": "3.11.2"
  },
  "toc-autonumbering": false,
  "toc-showcode": true,
  "toc-showmarkdowntxt": false,
  "toc-showtags": false,
  "vscode": {
   "interpreter": {
    "hash": "a895399ee74c9bb8c2f84b506e1022159283bd55c0aac0147faf0c85b806a476"
   }
  }
 },
 "nbformat": 4,
 "nbformat_minor": 4
}
