{
 "cells": [
  {
   "attachments": {},
   "cell_type": "markdown",
   "metadata": {},
   "source": [
    "# Resources For Learning Deep Learning\n",
    "\n",
    "- [fast.ai](https://fast.ai)\n",
    "   - [Practical Deep Learning for Coders](https://course.fast.ai/Resources/book.html)\n",
    "       - [PlayList](https://www.youtube.com/playlist?list=PLfYUBJiXbdtSvpQjSnJJ_PmDQB_VyT5iU)\n",
    "   - [Kaggle](https://www.kaggle.com)"
   ]
  }
 ],
 "metadata": {
  "kernelspec": {
   "display_name": "Python 3 (ipykernel)",
   "language": "python",
   "name": "python3"
  },
  "language_info": {
   "codemirror_mode": {
    "name": "ipython",
    "version": 3
   },
   "file_extension": ".py",
   "mimetype": "text/x-python",
   "name": "python",
   "nbconvert_exporter": "python",
   "pygments_lexer": "ipython3",
   "version": "3.11.2"
  },
  "toc-autonumbering": false,
  "toc-showcode": true,
  "toc-showmarkdowntxt": false,
  "toc-showtags": false,
  "vscode": {
   "interpreter": {
    "hash": "a895399ee74c9bb8c2f84b506e1022159283bd55c0aac0147faf0c85b806a476"
   }
  }
 },
 "nbformat": 4,
 "nbformat_minor": 4
}
